{
 "cells": [
  {
   "cell_type": "markdown",
   "metadata": {},
   "source": [
    "# Spectral domain analysis "
   ]
  },
  {
   "cell_type": "markdown",
   "metadata": {},
   "source": [
    "In this tutorial, we will demonstrate how to use the spectral (or, frequency) domain analysis functions in neurodsp.spectral. We will cover:\n",
    "- computing the power spectral density (PSD)\n",
    "- fitting the 1/f noise in the PSD with a line in loglog domain\n",
    "- computing and displaying the spectral histogram\n",
    "- computing the spectral coefficient of variation (SCV) and the resampled estimates\n",
    "\n",
    "Detailed explanations for each of the above concept are provided below as we come across them."
   ]
  },
  {
   "cell_type": "code",
   "execution_count": 1,
   "metadata": {},
   "outputs": [],
   "source": [
    "# importing libraries\n",
    "%matplotlib inline\n",
    "from scipy import signal\n",
    "import numpy as np\n",
    "import scipy as sp\n",
    "from scipy import io\n",
    "import matplotlib.pylab as plt\n",
    "from neurodsp import spectral"
   ]
  },
  {
   "cell_type": "code",
   "execution_count": 2,
   "metadata": {},
   "outputs": [
    {
     "data": {
      "image/png": "[encoded data removed]",
      "text/plain": [
       "<matplotlib.figure.Figure at 0x10476f978>"
      ]
     },
     "metadata": {},
     "output_type": "display_data"
    }
   ],
   "source": [
    "# first, we load the sample data, which is a segment of rat hippocampal LFP taken from the \n",
    "#    publicly available neuro database CRCNS (hc2). Relevant publication: Mizuseki et al, 2012, Nature Neuro\n",
    "data = io.loadmat('./data/sample_data_2.mat', squeeze_me=True)\n",
    "x = data['x']\n",
    "fs = data['fs']\n",
    "t = np.arange(len(x))/fs\n",
    "plt.plot(t, x)\n",
    "plt.xlim((0,3))\n",
    "plt.xlabel('Time (s)')\n",
    "plt.ylabel('Voltage');\n",
    "\n",
    "# plotting the data, we observe a strong theta oscillation (~6-8 Hz)"
   ]
  },
  {
   "cell_type": "markdown",
   "metadata": {},
   "source": [
    "### Computing the power spectral density (PSD)\n",
    "PSD is the frequency domain representation of time series. Through the Fourier transform, the signal is split into orthogonal components of different frequency. In this toolbox, there are a few ways of estimating the PSD:\n",
    "- 'mean' : same as Welch's method; mean over spectrogram of data. This is the most straightforward and \"standard\" way of computing the PSD.\n",
    "- 'median' : similar to Welch's method; median (instead of mean) over spectrogram of data. This diminishes the effect of outlier power values from signal artifacts.\n",
    "- 'medfilt' : median filtered of FFT magnitude squared."
   ]
  },
  {
   "cell_type": "code",
   "execution_count": null,
   "metadata": {},
   "outputs": [],
   "source": [
    "freq_mean, P_mean = spectral.psd(x, fs, method='mean', nperseg=fs*2) # mean of spectrogram (Welch)\n",
    "freq_med, P_med = spectral.psd(x, fs, method='median', nperseg=fs*2) # median of spectrogram (\"median Welch\")\n",
    "freq_mf, P_mf = spectral.psd(x, fs, method='medfilt')\n",
    "\n",
    "plt.figure(figsize=(8,8))\n",
    "plt.loglog(freq_mean[:200],P_mean[:200], label='Welch')\n",
    "plt.loglog(freq_med[:200],P_med[:200], label='Median Welch')\n",
    "plt.loglog(freq_mf[100:10000],P_mf[100:10000], label='Median Filter FFT')\n",
    "plt.legend()\n",
    "plt.xlabel('Frequency (Hz)')\n",
    "plt.ylabel('Power (V^2/Hz)')"
   ]
  },
  {
   "cell_type": "markdown",
   "metadata": {},
   "source": [
    "### Fitting 1/f noise of PSD with a straight line in loglog scale\n",
    "Notice in the above PSDs that there is a region of linear decrease when plotted in double log-scale, between 30-100Hz. This \"1/f slope\" has been found to correlate with aging, memory, and cognitive control in several previous publications, and has been proposed to reflect the physiological balance between excitation and inhibition. \n",
    "\n",
    "See for example: Voytek et al., JNeuro, 2015; Podvalny et al., JNeurophysiol, 2015; Gao et al., NeuroImage, 2017; Lombardi et al., Chaos, 2017\n",
    "\n",
    "Here, we can fit the 1/f slope between any two frequencies while excluding a number of frequency ranges within that fit region, and we can plot the PSD and line to visually evaluate goodness of fit."
   ]
  },
  {
   "cell_type": "code",
   "execution_count": null,
   "metadata": {},
   "outputs": [],
   "source": [
    "slope, offset= spectral.fit_slope(freq_med[1:200], P_med[1:200], (30., 100.), fit_excl=[(55., 65.)], method='ols', plot_fit=True)\n",
    "print('Slope:', slope, '& Offset:', offset)"
   ]
  },
  {
   "cell_type": "markdown",
   "metadata": {},
   "source": [
    "### Spectral histogram\n",
    "The PSD is an estimate of the central tendency (mean/median) of the signal's power at each frequency, with the assumption that the signal is relatively stationary and that the variance around the mean comes from various forms of noise. \n",
    "\n",
    "However, in physiological data, we may be interested in visualizing the distribution of power values around the mean at each frequency, as estimated in sequential slices of short-time Fourier transform (STFT), since it may reveal non-stationarities in the data or particular frequencies that are not like the rest. Here, we simply bin the log-power values across time, in a histogram, to observe the noise distribution at each frequency."
   ]
  },
  {
   "cell_type": "code",
   "execution_count": null,
   "metadata": {},
   "outputs": [],
   "source": [
    "f, bins, spect_hist = spectral.spectral_hist(x, fs, nbins=50, flim=(0,100), cutpct=(0.1,99.9))\n",
    "spectral.plot_spectral_hist(f, bins, spect_hist, freq_med, P_med)\n",
    "\n",
    "# Notice in the below plot that not only is theta power higher overall (shifted up), \n",
    "#    it also has lower variance around its mean."
   ]
  },
  {
   "cell_type": "markdown",
   "metadata": {},
   "source": [
    "### Spectral Coefficient of Variation\n",
    "As noted above, the range of log-power values in the theta frequency range is lower compared to other frequencies, while that of 30-100Hz appear to be quite constant across the entire frequency axis (homoscedasticity). To quantify that, we compute the coefficient of variation (standard deviation/mean) as a normalized estimate of variance."
   ]
  },
  {
   "cell_type": "code",
   "execution_count": null,
   "metadata": {},
   "outputs": [],
   "source": [
    "f, scv = spectral.scv(x, fs, nperseg=int(fs*2),noverlap=int(fs))\n",
    "plt.loglog(f,scv)\n",
    "plt.xlim([0, 200])\n",
    "plt.xlabel('Frequency (Hz)')\n",
    "plt.ylabel('SCV')"
   ]
  },
  {
   "cell_type": "markdown",
   "metadata": {},
   "source": [
    "As shown above, SCV calculated from the entire segment of data is quite noise due to the single estimate of mean and standard deviation. To overcome this, we can compute a bootstrap-resampled estimate of SCV, by randomly drawing slices from the non-overlapping spectrogram and taking their average."
   ]
  },
  {
   "cell_type": "code",
   "execution_count": null,
   "metadata": {},
   "outputs": [],
   "source": [
    "f, T, SCVrs = spectral.scv_rs(x, fs,nperseg=fs*2, method='bootstrap', rs_params=(20, 200))\n",
    "plt.figure(figsize=(8,8))\n",
    "plt.loglog(f, SCVrs, 'k', alpha=0.1);\n",
    "plt.loglog(f, np.mean(SCVrs, axis=1))\n",
    "plt.loglog(f, len(f)*[1.])\n",
    "plt.xlim((0,200))\n",
    "plt.xlabel('Frequency (Hz)')\n",
    "plt.ylabel('SCV')"
   ]
  },
  {
   "cell_type": "markdown",
   "metadata": {
    "collapsed": true
   },
   "source": [
    "Another way to compute the resampled SCV is via a sliding window approach, essentially smoothing over consecutive slices of the spectrogram to compute the mean and std estimates."
   ]
  },
  {
   "cell_type": "code",
   "execution_count": null,
   "metadata": {},
   "outputs": [],
   "source": [
    "f, T, SCVrs = spectral.scv_rs(x, fs, method='rolling', rs_params=(10,2))\n",
    "plt.figure(figsize=(20,10))\n",
    "plt.imshow(np.log10(SCVrs), aspect='auto', extent=(T[0],T[-1],f[-1],f[0]))\n",
    "plt.colorbar()\n",
    "plt.ylim((100,0))\n",
    "plt.ylabel('Frequency (Hz)')\n",
    "plt.xlabel('Time (s)');\n",
    "\n",
    "# In the plot below, we see that the theta band (~7Hz) consistently has CV of less than 1 (negative in log10)"
   ]
  },
  {
   "cell_type": "code",
   "execution_count": null,
   "metadata": {
    "collapsed": true
   },
   "outputs": [],
   "source": []
  }
 ],
 "metadata": {
  "anaconda-cloud": {},
  "kernelspec": {
   "display_name": "Python 3",
   "language": "python",
   "name": "python3"
  },
  "language_info": {
   "codemirror_mode": {
    "name": "ipython",
    "version": 3
   },
   "file_extension": ".py",
   "mimetype": "text/x-python",
   "name": "python",
   "nbconvert_exporter": "python",
   "pygments_lexer": "ipython3",
   "version": "3.5.3"
  }
 },
 "nbformat": 4,
 "nbformat_minor": 1
}
